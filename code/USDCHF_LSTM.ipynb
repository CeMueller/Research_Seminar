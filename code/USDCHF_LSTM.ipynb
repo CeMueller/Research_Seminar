{
 "cells": [
  {
   "cell_type": "code",
   "execution_count": 2,
   "metadata": {},
   "outputs": [],
   "source": [
    "# This approach was modified from an initial approach by Luedman (GitHub name), \n",
    "# where we tried to forecast CRIX volatility\n",
    "# Load Libraries\n",
    "import os\n",
    "import pandas as pd\n",
    "import numpy as np\n",
    "import math\n",
    "import matplotlib.pyplot as plt\n",
    "import datetime\n",
    "\n",
    "from keras.optimizers       import Adam\n",
    "from keras.models           import Sequential\n",
    "from keras.layers           import Dense\n",
    "from keras.layers           import LSTM\n",
    "from keras.models           import load_model\n",
    "\n",
    "from sklearn.metrics import mean_squared_error\n",
    "from sklearn.preprocessing import MinMaxScaler"
   ]
  },
  {
   "cell_type": "code",
   "execution_count": 2,
   "metadata": {},
   "outputs": [],
   "source": [
    "# Define Hyperparameters\n",
    "look_back = 5\n",
    "epochs = 20\n",
    "nodes = 64"
   ]
  },
  {
   "cell_type": "code",
   "execution_count": 3,
   "metadata": {},
   "outputs": [],
   "source": [
    "# Set wd\n",
    "path = 'C:/Users/Cedric/Desktop/Uni/19_FS/Research Seminar/LSTM'\n",
    "os.chdir(path)\n",
    "\n",
    "# Load the csv data\n",
    "data = pd.read_csv('USD_CHF_Day.csv')\n",
    "data.columns = ['date', 'open', 'high','low','close','AskVol']\n",
    "data = data.drop_duplicates(subset='close', keep=\"first\")\n",
    "\n",
    "# Convert the data in a pandas dataframe\n",
    "USD_MXN = pd.DataFrame(data = data[['date', 'close']])\n",
    "# USD_MXN['date'] = pd.to_datetime(USD_MXN['date'], format=\"%d.%m.%Y %H:%M:%S.%f\")\n",
    "USD_MXN = USD_MXN.set_index('date')\n",
    "\n",
    "# Data Checkup\n",
    "# USD_MXN.tail(57)\n"
   ]
  },
  {
   "cell_type": "code",
   "execution_count": 4,
   "metadata": {},
   "outputs": [],
   "source": [
    "exchange_series = USD_MXN['close'].values\n",
    "exchange_series = exchange_series.reshape(len(exchange_series),1)\n",
    "exchange_series = exchange_series.astype('float32')\n",
    "\n",
    "# Normalize the values to a range from zero to 1\n",
    "scaler            = MinMaxScaler(feature_range=(0, 1))\n",
    "exchange_series     = scaler.fit_transform(exchange_series)\n",
    "\n",
    "# Split the data into a training and test set\n",
    "# We are using 80 percent of the data as training set and 20% as the test set. \n",
    "# train_size  = int(len(exchange_series) * 0.80)\n",
    "# test_size   = len(exchange_series) - train_size\n",
    "\n",
    "# Do it manually. 64 corresponds to the size of the test set\n",
    "train, test = exchange_series[0:len(exchange_series)-64], exchange_series[len(exchange_series)-64:len(exchange_series)]\n"
   ]
  },
  {
   "cell_type": "code",
   "execution_count": 5,
   "metadata": {},
   "outputs": [],
   "source": [
    "# Create Data Set\n",
    "# dataX is the the rolling window of past obeservations \n",
    "# dataY becomes the the value that is one day ahead of the rolling window. \n",
    "# This is the label/prediction for the past values\n",
    "\n",
    "def create_dataset(time_series, look_back):\n",
    "    dataX, dataY = [], []\n",
    "    \n",
    "    for i in range(1,len(time_series) - look_back - 1):\n",
    "        \n",
    "        x = time_series[i:i + look_back]\n",
    "        dataX.append(x)\n",
    "        \n",
    "        y = time_series[i + look_back + 1]\n",
    "        dataY.append(y)\n",
    "           \n",
    "    return np.array(dataX), np.array(dataY)"
   ]
  },
  {
   "cell_type": "code",
   "execution_count": 6,
   "metadata": {},
   "outputs": [],
   "source": [
    "#Create the dataset with rolling window for the training set and test set\n",
    "trainX, trainY  = create_dataset(train, look_back)\n",
    "testX, testY    = create_dataset(test, look_back)\n",
    "\n",
    "# Reshape input to be [samples, time steps, features]\n",
    "trainX  = np.reshape(trainX, (trainX.shape[0], 1, trainX.shape[1]))\n",
    "testX   = np.reshape(testX, (testX.shape[0], 1, testX.shape[1]))"
   ]
  },
  {
   "cell_type": "code",
   "execution_count": 7,
   "metadata": {},
   "outputs": [
    {
     "name": "stdout",
     "output_type": "stream",
     "text": [
      "WARNING:tensorflow:From C:\\Users\\Cedric\\Anaconda3\\lib\\site-packages\\tensorflow\\python\\framework\\op_def_library.py:263: colocate_with (from tensorflow.python.framework.ops) is deprecated and will be removed in a future version.\n",
      "Instructions for updating:\n",
      "Colocations handled automatically by placer.\n"
     ]
    }
   ],
   "source": [
    "#Create the model\n",
    "#LSTM Neural Network with 128 Nodes and 3 Layers, followed by dense layer that outputs the prediction\n",
    "\n",
    "model = Sequential()\n",
    "model.add(LSTM(nodes, return_sequences = True, input_shape=(1, look_back)))\n",
    "model.add(LSTM(nodes, return_sequences = True))\n",
    "model.add(LSTM(nodes))\n",
    "model.add(Dense(1))\n",
    "optimizer = Adam(lr = 0.0001)\n",
    "model.compile(loss = 'mean_squared_error', optimizer = optimizer)"
   ]
  },
  {
   "cell_type": "code",
   "execution_count": 8,
   "metadata": {},
   "outputs": [
    {
     "name": "stdout",
     "output_type": "stream",
     "text": [
      "WARNING:tensorflow:From C:\\Users\\Cedric\\Anaconda3\\lib\\site-packages\\tensorflow\\python\\ops\\math_ops.py:3066: to_int32 (from tensorflow.python.ops.math_ops) is deprecated and will be removed in a future version.\n",
      "Instructions for updating:\n",
      "Use tf.cast instead.\n",
      "Epoch 1/20\n",
      "2366/2366 [==============================] - 11s 5ms/step - loss: 0.0224\n",
      "Epoch 2/20\n",
      "2366/2366 [==============================] - 10s 4ms/step - loss: 9.0636e-04\n",
      "Epoch 3/20\n",
      "2366/2366 [==============================] - 9s 4ms/step - loss: 8.5446e-04\n",
      "Epoch 4/20\n",
      "2366/2366 [==============================] - 9s 4ms/step - loss: 8.3404e-04\n",
      "Epoch 5/20\n",
      "2366/2366 [==============================] - 9s 4ms/step - loss: 7.8372e-04\n",
      "Epoch 6/20\n",
      "2366/2366 [==============================] - 10s 4ms/step - loss: 7.4314e-04\n",
      "Epoch 7/20\n",
      "2366/2366 [==============================] - 10s 4ms/step - loss: 7.5129e-04\n",
      "Epoch 8/20\n",
      "2366/2366 [==============================] - 9s 4ms/step - loss: 7.2608e-04\n",
      "Epoch 9/20\n",
      "2366/2366 [==============================] - 10s 4ms/step - loss: 7.1634e-04\n",
      "Epoch 10/20\n",
      "2366/2366 [==============================] - 11s 5ms/step - loss: 7.0940e-04\n",
      "Epoch 11/20\n",
      "2366/2366 [==============================] - 8s 3ms/step - loss: 6.6721e-04\n",
      "Epoch 12/20\n",
      "2366/2366 [==============================] - 8s 3ms/step - loss: 6.6896e-04\n",
      "Epoch 13/20\n",
      "2366/2366 [==============================] - 8s 3ms/step - loss: 6.6411e-04\n",
      "Epoch 14/20\n",
      "2366/2366 [==============================] - 8s 3ms/step - loss: 6.5686e-04\n",
      "Epoch 15/20\n",
      "2366/2366 [==============================] - 8s 3ms/step - loss: 6.3950e-04\n",
      "Epoch 16/20\n",
      "2366/2366 [==============================] - 8s 4ms/step - loss: 6.4416e-04\n",
      "Epoch 17/20\n",
      "2366/2366 [==============================] - 8s 3ms/step - loss: 6.3671e-04\n",
      "Epoch 18/20\n",
      "2366/2366 [==============================] - 9s 4ms/step - loss: 6.1737e-04\n",
      "Epoch 19/20\n",
      "2366/2366 [==============================] - 8s 3ms/step - loss: 6.1582e-04\n",
      "Epoch 20/20\n",
      "2366/2366 [==============================] - 9s 4ms/step - loss: 6.1968e-04\n"
     ]
    },
    {
     "data": {
      "text/plain": [
       "<keras.callbacks.History at 0x1591b33cba8>"
      ]
     },
     "execution_count": 8,
     "metadata": {},
     "output_type": "execute_result"
    }
   ],
   "source": [
    "#Train the model, epochs is the number of iterations\n",
    "\n",
    "model.fit(trainX, trainY, epochs = epochs, batch_size = 1, verbose = 1)"
   ]
  },
  {
   "cell_type": "code",
   "execution_count": 9,
   "metadata": {},
   "outputs": [],
   "source": [
    "#model.save('Output/Model_LB-'+ str(look_back) + '_EP-'+str(epochs)+'.h5')"
   ]
  },
  {
   "cell_type": "code",
   "execution_count": 10,
   "metadata": {},
   "outputs": [],
   "source": [
    "#Make predictions \n",
    "trainPredict    = model.predict(trainX)\n",
    "testPredict     = model.predict(testX)\n",
    "\n",
    "#Inverse the normalization procedure of the data\n",
    "trainY = np.reshape(trainY,(trainY.shape[0],))\n",
    "testY  = np.reshape(testY,(testY.shape[0],))\n",
    "\n",
    "trainPredict    = scaler.inverse_transform(trainPredict)\n",
    "trainY          = scaler.inverse_transform([trainY])\n",
    "testPredict     = scaler.inverse_transform(testPredict)\n",
    "testY           = scaler.inverse_transform([testY])"
   ]
  },
  {
   "cell_type": "code",
   "execution_count": 11,
   "metadata": {},
   "outputs": [
    {
     "name": "stdout",
     "output_type": "stream",
     "text": [
      "Train Score: 0.010913 RMSE\n",
      "Test Score: 0.005182 RMSE\n"
     ]
    }
   ],
   "source": [
    "# Calculate root mean squared error\n",
    "trainScore = math.sqrt(mean_squared_error(trainY[0], trainPredict[:,0]))\n",
    "print('Train Score: %.6f RMSE' % (trainScore))\n",
    "testScore = math.sqrt(mean_squared_error(testY[0], testPredict[:,0]))\n",
    "print('Test Score: %.6f RMSE' % (testScore))"
   ]
  },
  {
   "cell_type": "code",
   "execution_count": 12,
   "metadata": {},
   "outputs": [
    {
     "data": {
      "image/png": "[encoded data removed]",
      "text/plain": [
       "<Figure size 432x288 with 1 Axes>"
      ]
     },
     "metadata": {
      "needs_background": "light"
     },
     "output_type": "display_data"
    },
    {
     "name": "stdout",
     "output_type": "stream",
     "text": [
      "[[0.9707889 ]\n",
      " [0.9759325 ]\n",
      " [0.9795197 ]\n",
      " [0.9820503 ]\n",
      " [0.98736006]\n",
      " [0.9894652 ]\n",
      " [0.9904851 ]\n",
      " [0.9918606 ]\n",
      " [0.9911277 ]\n",
      " [0.991419  ]\n",
      " [0.9897929 ]\n",
      " [0.9900644 ]\n",
      " [0.99261326]\n",
      " [0.99365824]\n",
      " [0.9948104 ]\n",
      " [0.995721  ]\n",
      " [0.99539185]\n",
      " [0.99750227]\n",
      " [0.99730766]\n",
      " [0.9992723 ]\n",
      " [1.0022701 ]\n",
      " [1.0048695 ]\n",
      " [1.0035923 ]\n",
      " [1.0038977 ]\n",
      " [1.0045788 ]\n",
      " [1.0031654 ]\n",
      " [1.0028609 ]\n",
      " [1.0044826 ]\n",
      " [1.0048866 ]\n",
      " [1.0075988 ]\n",
      " [1.007454  ]\n",
      " [1.0072963 ]\n",
      " [1.0077896 ]\n",
      " [1.0008519 ]\n",
      " [0.99849504]\n",
      " [0.9987152 ]\n",
      " [0.99773103]\n",
      " [0.99819666]\n",
      " [0.9986445 ]\n",
      " [0.99844533]\n",
      " [0.99805725]\n",
      " [0.9979192 ]\n",
      " [0.9955011 ]\n",
      " [0.9939866 ]\n",
      " [0.9924672 ]\n",
      " [0.9925673 ]\n",
      " [0.99287   ]\n",
      " [0.99328655]\n",
      " [0.99575675]\n",
      " [0.9944076 ]\n",
      " [0.9937098 ]\n",
      " [0.99454564]\n",
      " [0.99108535]\n",
      " [0.99310344]\n",
      " [0.9900627 ]\n",
      " [0.98729515]\n",
      " [0.9882456 ]]\n"
     ]
    }
   ],
   "source": [
    "#plt.plot(crix_data['vol'].values, color = 'grey')\n",
    "\n",
    "# Shift train predictions for plotting\n",
    "trainPredictPlot = np.empty_like(exchange_series)\n",
    "trainPredictPlot[:, :] = np.nan\n",
    "trainPredictPlot[look_back:len(trainPredict)+look_back, :] = trainPredict\n",
    "\n",
    "# Shift test predictions for plotting\n",
    "testPredictPlot = np.empty_like(exchange_series)\n",
    "testPredictPlot[:, :]= np.nan\n",
    "testPredictPlot[len(trainPredict) + (look_back * 2) + 2:len(exchange_series)-2, :] = testPredict\n",
    "\n",
    "# Plot baseline and predictions\n",
    "plt.plot(scaler.inverse_transform(exchange_series), label = 'Vol')\n",
    "plt.plot(trainPredictPlot, label = 'Prediction on Training Set')\n",
    "plt.plot(testPredictPlot, label = 'Prediction on Test Set')\n",
    "\n",
    "plt.legend()\n",
    "plt.xlabel('Trading Days')\n",
    "plt.ylabel('Exchange Rate')\n",
    "# plt.savefig('Output/Plot_LB-'+ str(look_back) + '_EP-'+str(epochs)+'.png', dpi=500)\n",
    "plt.show()\n",
    "print(testPredict)\n"
   ]
  }
 ],
 "metadata": {
  "kernelspec": {
   "display_name": "Python 3",
   "language": "python",
   "name": "python3"
  },
  "language_info": {
   "codemirror_mode": {
    "name": "ipython",
    "version": 3
   },
   "file_extension": ".py",
   "mimetype": "text/x-python",
   "name": "python",
   "nbconvert_exporter": "python",
   "pygments_lexer": "ipython3",
   "version": "3.6.8"
  }
 },
 "nbformat": 4,
 "nbformat_minor": 2
}
